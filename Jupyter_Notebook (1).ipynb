{
 "cells": [
  {
   "cell_type": "markdown",
   "metadata": {},
   "source": [
    "<center>\n",
    "    <img src=\"https://cf-courses-data.s3.us.cloud-object-storage.appdomain.cloud/IBMDeveloperSkillsNetwork-DS0105EN-SkillsNetwork/labs/Module2/images/SN_web_lightmode.png\" width=\"300\" alt=\"cognitiveclass.ai logo\">\n",
    "</center>\n"
   ]
  },
  {
   "cell_type": "markdown",
   "metadata": {},
   "source": [
    "#### Add your code below following the instructions given in the course\n"
   ]
  },
  {
   "cell_type": "markdown",
   "metadata": {},
   "source": [
    "Data science project"
   ]
  },
  {
   "cell_type": "markdown",
   "metadata": {},
   "source": [
    "This notebook provides a basic introduction to data science concepts and tools. It covers the following topics:\n",
    "\n",
    "Data science languages\n",
    "Data science libraries\n",
    "Arithmetic expressions\n",
    "Converting units\n",
    "Objectives of data science\n",
    "Author information"
   ]
  },
  {
   "cell_type": "markdown",
   "metadata": {},
   "source": [
    "### Data Science Languages\n",
    "\n",
    "* Python\n",
    "* R\n",
    "* Julia"
   ]
  },
  {
   "cell_type": "markdown",
   "metadata": {},
   "source": [
    "### Data Science Libraries\n",
    "\n",
    "* Python: NumPy, Pandas, Matplotlib, Scikit-learn, TensorFlow, PyTorch\n",
    "* R: dplyr, tidyr, ggplot2, caret\n",
    "* Julia: DataFrames, Gadfly, Flux"
   ]
  },
  {
   "cell_type": "markdown",
   "metadata": {},
   "source": [
    "| Tool | Language | Purpose |\n",
    "|---|---|---|\n",
    "| Jupyter Notebook | Python, R, Julia | Interactive computing environment |\n",
    "| RStudio | R | IDE for R |\n",
    "| Visual Studio Code | Python, R, Julia | Extensible code editor |\n",
    "| Git | All | Version control system |\n",
    "| GitHub | All | Code hosting platform |"
   ]
  },
  {
   "cell_type": "markdown",
   "metadata": {},
   "source": [
    "### Arithmetic Expression Examples\n"
   ]
  },
  {
   "cell_type": "code",
   "execution_count": 1,
   "metadata": {
    "tags": []
   },
   "outputs": [
    {
     "name": "stdout",
     "output_type": "stream",
     "text": [
      "16\n"
     ]
    }
   ],
   "source": [
    "# Multiply 2 and 3\n",
    "result = 2 * 3\n",
    "\n",
    "# Add 10 to the result\n",
    "result += 10\n",
    "\n",
    "# Print the result\n",
    "print(result)\n"
   ]
  },
  {
   "cell_type": "code",
   "execution_count": 2,
   "metadata": {
    "tags": []
   },
   "outputs": [
    {
     "name": "stdout",
     "output_type": "stream",
     "text": [
      "1.0\n"
     ]
    }
   ],
   "source": [
    "# Define a function to convert minutes to hours\n",
    "def minutes_to_hours(minutes):\n",
    "  hours = minutes / 60\n",
    "  return hours\n",
    "\n",
    "# Convert 60 minutes to hours\n",
    "hours = minutes_to_hours(60)\n",
    "\n",
    "# Print the converted value\n",
    "print(hours)\n"
   ]
  },
  {
   "cell_type": "markdown",
   "metadata": {},
   "source": [
    "### Author: arunesh"
   ]
  },
  {
   "cell_type": "markdown",
   "metadata": {},
   "source": [
    "Conclusion:\n",
    "\n",
    "This notebook has provided a basic introduction to data science concepts and tools. It has covered a variety of topics, including data science languages, data science libraries, arithmetic expressions, converting units, objectives of data science, and author information."
   ]
  }
 ],
 "metadata": {
  "kernelspec": {
   "display_name": "Python",
   "language": "python",
   "name": "conda-env-python-py"
  },
  "language_info": {
   "codemirror_mode": {
    "name": "ipython",
    "version": 3
   },
   "file_extension": ".py",
   "mimetype": "text/x-python",
   "name": "python",
   "nbconvert_exporter": "python",
   "pygments_lexer": "ipython3",
   "version": "3.7.12"
  }
 },
 "nbformat": 4,
 "nbformat_minor": 4
}
